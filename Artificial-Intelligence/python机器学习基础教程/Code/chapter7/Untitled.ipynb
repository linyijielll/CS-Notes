{
 "cells": [
  {
   "cell_type": "code",
   "execution_count": 1,
   "metadata": {},
   "outputs": [],
   "source": [
    "import numpy as np\n",
    "import matplotlib.pyplot as plt \n",
    "import pandas as pd\n",
    "import mglearn\n",
    "\n",
    "%matplotlib inline\n",
    "%config InlineBackend.figure_format = 'retina'"
   ]
  },
  {
   "cell_type": "code",
   "execution_count": 2,
   "metadata": {},
   "outputs": [
    {
     "name": "stdout",
     "output_type": "stream",
     "text": [
      "[0 1 2 ... 8 9 8]\n",
      "[False False False ... False  True False]\n"
     ]
    }
   ],
   "source": [
    "from sklearn.datasets import load_digits\n",
    "\n",
    "digits = load_digits()\n",
    "print(digits.target)\n",
    "y = digits.target==9\n",
    "print(y)"
   ]
  },
  {
   "cell_type": "code",
   "execution_count": 3,
   "metadata": {},
   "outputs": [
    {
     "name": "stdout",
     "output_type": "stream",
     "text": [
      "[ 0.  0.  0. 12. 13.  5.  0.  0.  0.  0.  0. 11. 16.  9.  0.  0.  0.  0.\n",
      "  3. 15. 16.  6.  0.  0.  0.  7. 15. 16. 16.  2.  0.  0.  0.  0.  1. 16.\n",
      " 16.  3.  0.  0.  0.  0.  1. 16. 16.  6.  0.  0.  0.  0.  1. 16. 16.  6.\n",
      "  0.  0.  0.  0.  0. 11. 16. 10.  0.  0.]\n"
     ]
    }
   ],
   "source": [
    "print(digits.data[1])"
   ]
  },
  {
   "cell_type": "code",
   "execution_count": 4,
   "metadata": {},
   "outputs": [
    {
     "name": "stdout",
     "output_type": "stream",
     "text": [
      "  (0, 3)\t1\n",
      "  (0, 4)\t1\n",
      "  (0, 5)\t1\n",
      "  (0, 7)\t1\n",
      "  (0, 12)\t1\n",
      "  (0, 13)\t1\n",
      "  (0, 16)\t1\n",
      "  (1, 1)\t1\n",
      "  (1, 2)\t1\n",
      "  (1, 4)\t1\n",
      "  (1, 6)\t1\n",
      "  (1, 8)\t1\n",
      "  (1, 9)\t1\n",
      "  (1, 12)\t1\n",
      "  (1, 14)\t1\n",
      "  (1, 16)\t1\n",
      "  (2, 0)\t1\n",
      "  (2, 4)\t1\n",
      "  (2, 10)\t1\n",
      "  (3, 2)\t1\n",
      "  (3, 4)\t1\n",
      "  (3, 7)\t1\n",
      "  (3, 12)\t1\n",
      "  (3, 15)\t1\n",
      "  (4, 0)\t1\n",
      "  (4, 11)\t1\n",
      "  (4, 17)\t1\n"
     ]
    }
   ],
   "source": [
    "from sklearn.feature_extraction.text import CountVectorizer\n",
    "bards_words =[\"The fool doth think he is wise,\",\"but the wise man knows himself to be a fool\",\"i am no a fool\",\"but who is the fool\",\"i am not you\"]\n",
    "vect = CountVectorizer()\n",
    "vect.fit(bards_words)\n",
    "bag_of_words = vect.transform(bards_words)\n",
    "print(bag_of_words)\n"
   ]
  },
  {
   "cell_type": "code",
   "execution_count": 5,
   "metadata": {},
   "outputs": [
    {
     "name": "stdout",
     "output_type": "stream",
     "text": [
      "[[0 0 0 1 1 1 0 1 0 0 0 0 1 1 0 0 1 0]\n",
      " [0 1 1 0 1 0 1 0 1 1 0 0 1 0 1 0 1 0]\n",
      " [1 0 0 0 1 0 0 0 0 0 1 0 0 0 0 0 0 0]\n",
      " [0 0 1 0 1 0 0 1 0 0 0 0 1 0 0 1 0 0]\n",
      " [1 0 0 0 0 0 0 0 0 0 0 1 0 0 0 0 0 1]]\n"
     ]
    }
   ],
   "source": [
    "print(bag_of_words.toarray())"
   ]
  },
  {
   "cell_type": "code",
   "execution_count": 6,
   "metadata": {},
   "outputs": [
    {
     "name": "stdout",
     "output_type": "stream",
     "text": [
      "the first line is \n",
      "  (0, 3)\t1\n",
      "  (0, 4)\t1\n",
      "  (0, 5)\t1\n",
      "  (0, 7)\t1\n",
      "  (0, 12)\t1\n",
      "  (0, 13)\t1\n",
      "  (0, 16)\t1\n",
      "the second line is \n",
      "  (0, 1)\t1\n",
      "  (0, 2)\t1\n",
      "  (0, 4)\t1\n",
      "  (0, 6)\t1\n",
      "  (0, 8)\t1\n",
      "  (0, 9)\t1\n",
      "  (0, 12)\t1\n",
      "  (0, 14)\t1\n",
      "  (0, 16)\t1\n"
     ]
    }
   ],
   "source": [
    "print('the first line is \\n{}'.format(bag_of_words[0]))\n",
    "print('the second line is \\n{}'.format(bag_of_words[1]))"
   ]
  },
  {
   "cell_type": "code",
   "execution_count": 7,
   "metadata": {},
   "outputs": [
    {
     "data": {
      "text/plain": [
       "TfidfVectorizer()"
      ]
     },
     "execution_count": 7,
     "metadata": {},
     "output_type": "execute_result"
    }
   ],
   "source": [
    "from sklearn.feature_extraction.text import TfidfVectorizer \n",
    "tfidf = TfidfVectorizer()\n",
    "tfidf.fit(bards_words)"
   ]
  },
  {
   "cell_type": "code",
   "execution_count": 8,
   "metadata": {},
   "outputs": [
    {
     "name": "stdout",
     "output_type": "stream",
     "text": [
      "  (0, 16)\t0.3583893457792225\n",
      "  (0, 13)\t0.44421435644553064\n",
      "  (0, 12)\t0.29749553163111786\n",
      "  (0, 7)\t0.3583893457792225\n",
      "  (0, 5)\t0.44421435644553064\n",
      "  (0, 4)\t0.2502626198745013\n",
      "  (0, 3)\t0.44421435644553064\n",
      "  (1, 16)\t0.3034743854506345\n",
      "  (1, 14)\t0.3761486785762367\n",
      "  (1, 12)\t0.25191115388703433\n",
      "  (1, 9)\t0.3761486785762367\n",
      "  (1, 8)\t0.3761486785762367\n",
      "  (1, 6)\t0.3761486785762367\n",
      "  (1, 4)\t0.21191560425031786\n",
      "  (1, 2)\t0.3034743854506345\n",
      "  (1, 1)\t0.3761486785762367\n",
      "  (2, 10)\t0.7127752157729959\n",
      "  (2, 4)\t0.4015651234424611\n",
      "  (2, 0)\t0.5750625560879445\n",
      "  (3, 15)\t0.5709397983956458\n",
      "  (3, 12)\t0.38236503703342845\n",
      "  (3, 7)\t0.46063063441630786\n",
      "  (3, 4)\t0.32165752336425085\n",
      "  (3, 2)\t0.46063063441630786\n",
      "  (4, 17)\t0.6141889663426562\n",
      "  (4, 11)\t0.6141889663426562\n",
      "  (4, 0)\t0.49552379079705033\n"
     ]
    }
   ],
   "source": [
    "x_tfidf = tfidf.transform(bards_words)\n",
    "print(x_tfidf)"
   ]
  },
  {
   "cell_type": "code",
   "execution_count": 9,
   "metadata": {},
   "outputs": [
    {
     "name": "stdout",
     "output_type": "stream",
     "text": [
      "  (0, 0)\t0.5750625560879445\n",
      "  (0, 1)\t0.3761486785762367\n",
      "  (0, 2)\t0.46063063441630786\n",
      "  (0, 3)\t0.44421435644553064\n",
      "  (0, 4)\t0.4015651234424611\n",
      "  (0, 5)\t0.44421435644553064\n",
      "  (0, 6)\t0.3761486785762367\n",
      "  (0, 7)\t0.46063063441630786\n",
      "  (0, 8)\t0.3761486785762367\n",
      "  (0, 9)\t0.3761486785762367\n",
      "  (0, 10)\t0.7127752157729959\n",
      "  (0, 11)\t0.6141889663426562\n",
      "  (0, 12)\t0.38236503703342845\n",
      "  (0, 13)\t0.44421435644553064\n",
      "  (0, 14)\t0.3761486785762367\n",
      "  (0, 15)\t0.5709397983956458\n",
      "  (0, 16)\t0.3583893457792225\n",
      "  (0, 17)\t0.6141889663426562\n",
      "[[0.57506256 0.37614868 0.46063063 0.44421436 0.40156512 0.44421436\n",
      "  0.37614868 0.46063063 0.37614868 0.37614868 0.71277522 0.61418897\n",
      "  0.38236504 0.44421436 0.37614868 0.5709398  0.35838935 0.61418897]]\n",
      "[0.57506256 0.37614868 0.46063063 0.44421436 0.40156512 0.44421436\n",
      " 0.37614868 0.46063063 0.37614868 0.37614868 0.71277522 0.61418897\n",
      " 0.38236504 0.44421436 0.37614868 0.5709398  0.35838935 0.61418897]\n"
     ]
    }
   ],
   "source": [
    "print(x_tfidf.max(axis=0))\n",
    "print(x_tfidf.max(axis=0).toarray())\n",
    "print(x_tfidf.max(axis=0).toarray().ravel())"
   ]
  },
  {
   "cell_type": "code",
   "execution_count": 12,
   "metadata": {},
   "outputs": [
    {
     "name": "stdout",
     "output_type": "stream",
     "text": [
      "['am', 'be', 'but', 'doth', 'fool', 'he', 'himself', 'is', 'knows', 'man', 'no', 'not', 'the', 'think', 'to', 'who', 'wise', 'you']\n"
     ]
    }
   ],
   "source": [
    "print(tfidf.get_feature_names())"
   ]
  },
  {
   "cell_type": "code",
   "execution_count": 1,
   "metadata": {},
   "outputs": [
    {
     "ename": "SyntaxError",
     "evalue": "invalid syntax (<ipython-input-1-a2972acdc524>, line 1)",
     "output_type": "error",
     "traceback": [
      "\u001b[0;36m  File \u001b[0;32m\"<ipython-input-1-a2972acdc524>\"\u001b[0;36m, line \u001b[0;32m1\u001b[0m\n\u001b[0;31m    python3 -m spacy download en\u001b[0m\n\u001b[0m               ^\u001b[0m\n\u001b[0;31mSyntaxError\u001b[0m\u001b[0;31m:\u001b[0m invalid syntax\n"
     ]
    }
   ],
   "source": [
    "python3 -m spacy download en"
   ]
  },
  {
   "cell_type": "code",
   "execution_count": null,
   "metadata": {},
   "outputs": [],
   "source": []
  }
 ],
 "metadata": {
  "kernelspec": {
   "display_name": "Python 3",
   "language": "python",
   "name": "python3"
  },
  "language_info": {
   "codemirror_mode": {
    "name": "ipython",
    "version": 3
   },
   "file_extension": ".py",
   "mimetype": "text/x-python",
   "name": "python",
   "nbconvert_exporter": "python",
   "pygments_lexer": "ipython3",
   "version": "3.8.5"
  }
 },
 "nbformat": 4,
 "nbformat_minor": 4
}
